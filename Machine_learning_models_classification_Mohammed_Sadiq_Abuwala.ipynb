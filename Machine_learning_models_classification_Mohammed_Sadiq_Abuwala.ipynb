{
 "cells": [
  {
   "cell_type": "markdown",
   "metadata": {},
   "source": [
    "# Assignment-I Task-2"
   ]
  },
  {
   "cell_type": "markdown",
   "metadata": {},
   "source": [
    "**Task-2** Classification on Landsat Satellite Data (3 marks): The data set consists of the multi-spectral values of pixels in 3x3 neighbourhoods in a satellite image, and the label information associated with the central pixel in each neighbourhood. This data set was generated from Landsat Multi-Spectral Scanner image data. To facilitate your data analysis process, we have done sampling and data pre-processing for you. All the features are named as “Feature #”, and the last attribute is the label (each number corresponds to a class). This is a multi-class classification problem.\n",
    "\n",
    "Notes:\n",
    "\n",
    "1). You need to tune the hyperparameter K for the KNN classifier, and impurity heuristics (information gain or Gini) for the decision tree classifier. Also, the pruning methods could be considered to tune the decision trees.\n"
   ]
  },
  {
   "cell_type": "code",
   "execution_count": 1,
   "metadata": {},
   "outputs": [],
   "source": [
    "import numpy as np\n",
    "import pandas as pd"
   ]
  },
  {
   "cell_type": "code",
   "execution_count": 2,
   "metadata": {},
   "outputs": [
    {
     "data": {
      "text/html": [
       "<div>\n",
       "<style scoped>\n",
       "    .dataframe tbody tr th:only-of-type {\n",
       "        vertical-align: middle;\n",
       "    }\n",
       "\n",
       "    .dataframe tbody tr th {\n",
       "        vertical-align: top;\n",
       "    }\n",
       "\n",
       "    .dataframe thead th {\n",
       "        text-align: right;\n",
       "    }\n",
       "</style>\n",
       "<table border=\"1\" class=\"dataframe\">\n",
       "  <thead>\n",
       "    <tr style=\"text-align: right;\">\n",
       "      <th></th>\n",
       "      <th>Feature 1</th>\n",
       "      <th>Feature 2</th>\n",
       "      <th>Feature 3</th>\n",
       "      <th>Feature 4</th>\n",
       "      <th>Feature 5</th>\n",
       "      <th>Feature 6</th>\n",
       "      <th>Feature 7</th>\n",
       "      <th>Feature 8</th>\n",
       "      <th>Feature 9</th>\n",
       "      <th>Feature 10</th>\n",
       "      <th>...</th>\n",
       "      <th>Feature 28</th>\n",
       "      <th>Feature 29</th>\n",
       "      <th>Feature 30</th>\n",
       "      <th>Feature 31</th>\n",
       "      <th>Feature 32</th>\n",
       "      <th>Feature 33</th>\n",
       "      <th>Feature 34</th>\n",
       "      <th>Feature 35</th>\n",
       "      <th>Feature 36</th>\n",
       "      <th>Label</th>\n",
       "    </tr>\n",
       "  </thead>\n",
       "  <tbody>\n",
       "    <tr>\n",
       "      <th>0</th>\n",
       "      <td>92</td>\n",
       "      <td>115</td>\n",
       "      <td>120</td>\n",
       "      <td>94</td>\n",
       "      <td>84</td>\n",
       "      <td>102</td>\n",
       "      <td>106</td>\n",
       "      <td>79</td>\n",
       "      <td>84</td>\n",
       "      <td>102</td>\n",
       "      <td>...</td>\n",
       "      <td>104</td>\n",
       "      <td>88</td>\n",
       "      <td>121</td>\n",
       "      <td>128</td>\n",
       "      <td>100</td>\n",
       "      <td>84</td>\n",
       "      <td>107</td>\n",
       "      <td>113</td>\n",
       "      <td>87</td>\n",
       "      <td>3</td>\n",
       "    </tr>\n",
       "    <tr>\n",
       "      <th>1</th>\n",
       "      <td>84</td>\n",
       "      <td>102</td>\n",
       "      <td>106</td>\n",
       "      <td>79</td>\n",
       "      <td>84</td>\n",
       "      <td>102</td>\n",
       "      <td>102</td>\n",
       "      <td>83</td>\n",
       "      <td>80</td>\n",
       "      <td>102</td>\n",
       "      <td>...</td>\n",
       "      <td>100</td>\n",
       "      <td>84</td>\n",
       "      <td>107</td>\n",
       "      <td>113</td>\n",
       "      <td>87</td>\n",
       "      <td>84</td>\n",
       "      <td>99</td>\n",
       "      <td>104</td>\n",
       "      <td>79</td>\n",
       "      <td>3</td>\n",
       "    </tr>\n",
       "    <tr>\n",
       "      <th>2</th>\n",
       "      <td>84</td>\n",
       "      <td>102</td>\n",
       "      <td>102</td>\n",
       "      <td>83</td>\n",
       "      <td>80</td>\n",
       "      <td>102</td>\n",
       "      <td>102</td>\n",
       "      <td>79</td>\n",
       "      <td>84</td>\n",
       "      <td>94</td>\n",
       "      <td>...</td>\n",
       "      <td>87</td>\n",
       "      <td>84</td>\n",
       "      <td>99</td>\n",
       "      <td>104</td>\n",
       "      <td>79</td>\n",
       "      <td>84</td>\n",
       "      <td>99</td>\n",
       "      <td>104</td>\n",
       "      <td>79</td>\n",
       "      <td>3</td>\n",
       "    </tr>\n",
       "    <tr>\n",
       "      <th>3</th>\n",
       "      <td>80</td>\n",
       "      <td>102</td>\n",
       "      <td>102</td>\n",
       "      <td>79</td>\n",
       "      <td>84</td>\n",
       "      <td>94</td>\n",
       "      <td>102</td>\n",
       "      <td>79</td>\n",
       "      <td>80</td>\n",
       "      <td>94</td>\n",
       "      <td>...</td>\n",
       "      <td>79</td>\n",
       "      <td>84</td>\n",
       "      <td>99</td>\n",
       "      <td>104</td>\n",
       "      <td>79</td>\n",
       "      <td>84</td>\n",
       "      <td>103</td>\n",
       "      <td>104</td>\n",
       "      <td>79</td>\n",
       "      <td>3</td>\n",
       "    </tr>\n",
       "    <tr>\n",
       "      <th>4</th>\n",
       "      <td>84</td>\n",
       "      <td>94</td>\n",
       "      <td>102</td>\n",
       "      <td>79</td>\n",
       "      <td>80</td>\n",
       "      <td>94</td>\n",
       "      <td>98</td>\n",
       "      <td>76</td>\n",
       "      <td>80</td>\n",
       "      <td>102</td>\n",
       "      <td>...</td>\n",
       "      <td>79</td>\n",
       "      <td>84</td>\n",
       "      <td>103</td>\n",
       "      <td>104</td>\n",
       "      <td>79</td>\n",
       "      <td>79</td>\n",
       "      <td>107</td>\n",
       "      <td>109</td>\n",
       "      <td>87</td>\n",
       "      <td>3</td>\n",
       "    </tr>\n",
       "    <tr>\n",
       "      <th>...</th>\n",
       "      <td>...</td>\n",
       "      <td>...</td>\n",
       "      <td>...</td>\n",
       "      <td>...</td>\n",
       "      <td>...</td>\n",
       "      <td>...</td>\n",
       "      <td>...</td>\n",
       "      <td>...</td>\n",
       "      <td>...</td>\n",
       "      <td>...</td>\n",
       "      <td>...</td>\n",
       "      <td>...</td>\n",
       "      <td>...</td>\n",
       "      <td>...</td>\n",
       "      <td>...</td>\n",
       "      <td>...</td>\n",
       "      <td>...</td>\n",
       "      <td>...</td>\n",
       "      <td>...</td>\n",
       "      <td>...</td>\n",
       "      <td>...</td>\n",
       "    </tr>\n",
       "    <tr>\n",
       "      <th>5995</th>\n",
       "      <td>51</td>\n",
       "      <td>68</td>\n",
       "      <td>85</td>\n",
       "      <td>71</td>\n",
       "      <td>51</td>\n",
       "      <td>75</td>\n",
       "      <td>93</td>\n",
       "      <td>79</td>\n",
       "      <td>55</td>\n",
       "      <td>75</td>\n",
       "      <td>...</td>\n",
       "      <td>79</td>\n",
       "      <td>56</td>\n",
       "      <td>81</td>\n",
       "      <td>97</td>\n",
       "      <td>79</td>\n",
       "      <td>52</td>\n",
       "      <td>73</td>\n",
       "      <td>93</td>\n",
       "      <td>79</td>\n",
       "      <td>1</td>\n",
       "    </tr>\n",
       "    <tr>\n",
       "      <th>5996</th>\n",
       "      <td>55</td>\n",
       "      <td>75</td>\n",
       "      <td>96</td>\n",
       "      <td>79</td>\n",
       "      <td>55</td>\n",
       "      <td>72</td>\n",
       "      <td>93</td>\n",
       "      <td>71</td>\n",
       "      <td>55</td>\n",
       "      <td>72</td>\n",
       "      <td>...</td>\n",
       "      <td>79</td>\n",
       "      <td>52</td>\n",
       "      <td>66</td>\n",
       "      <td>86</td>\n",
       "      <td>72</td>\n",
       "      <td>52</td>\n",
       "      <td>66</td>\n",
       "      <td>82</td>\n",
       "      <td>68</td>\n",
       "      <td>1</td>\n",
       "    </tr>\n",
       "    <tr>\n",
       "      <th>5997</th>\n",
       "      <td>55</td>\n",
       "      <td>72</td>\n",
       "      <td>93</td>\n",
       "      <td>71</td>\n",
       "      <td>55</td>\n",
       "      <td>72</td>\n",
       "      <td>85</td>\n",
       "      <td>75</td>\n",
       "      <td>59</td>\n",
       "      <td>79</td>\n",
       "      <td>...</td>\n",
       "      <td>72</td>\n",
       "      <td>52</td>\n",
       "      <td>66</td>\n",
       "      <td>82</td>\n",
       "      <td>68</td>\n",
       "      <td>56</td>\n",
       "      <td>70</td>\n",
       "      <td>82</td>\n",
       "      <td>72</td>\n",
       "      <td>1</td>\n",
       "    </tr>\n",
       "    <tr>\n",
       "      <th>5998</th>\n",
       "      <td>55</td>\n",
       "      <td>72</td>\n",
       "      <td>85</td>\n",
       "      <td>75</td>\n",
       "      <td>59</td>\n",
       "      <td>79</td>\n",
       "      <td>93</td>\n",
       "      <td>75</td>\n",
       "      <td>59</td>\n",
       "      <td>91</td>\n",
       "      <td>...</td>\n",
       "      <td>68</td>\n",
       "      <td>56</td>\n",
       "      <td>70</td>\n",
       "      <td>82</td>\n",
       "      <td>72</td>\n",
       "      <td>56</td>\n",
       "      <td>84</td>\n",
       "      <td>97</td>\n",
       "      <td>79</td>\n",
       "      <td>1</td>\n",
       "    </tr>\n",
       "    <tr>\n",
       "      <th>5999</th>\n",
       "      <td>59</td>\n",
       "      <td>79</td>\n",
       "      <td>93</td>\n",
       "      <td>75</td>\n",
       "      <td>59</td>\n",
       "      <td>91</td>\n",
       "      <td>104</td>\n",
       "      <td>83</td>\n",
       "      <td>59</td>\n",
       "      <td>87</td>\n",
       "      <td>...</td>\n",
       "      <td>72</td>\n",
       "      <td>56</td>\n",
       "      <td>84</td>\n",
       "      <td>97</td>\n",
       "      <td>79</td>\n",
       "      <td>59</td>\n",
       "      <td>91</td>\n",
       "      <td>101</td>\n",
       "      <td>86</td>\n",
       "      <td>1</td>\n",
       "    </tr>\n",
       "  </tbody>\n",
       "</table>\n",
       "<p>6000 rows × 37 columns</p>\n",
       "</div>"
      ],
      "text/plain": [
       "      Feature 1  Feature 2  Feature 3  Feature 4  Feature 5  Feature 6  \\\n",
       "0            92        115        120         94         84        102   \n",
       "1            84        102        106         79         84        102   \n",
       "2            84        102        102         83         80        102   \n",
       "3            80        102        102         79         84         94   \n",
       "4            84         94        102         79         80         94   \n",
       "...         ...        ...        ...        ...        ...        ...   \n",
       "5995         51         68         85         71         51         75   \n",
       "5996         55         75         96         79         55         72   \n",
       "5997         55         72         93         71         55         72   \n",
       "5998         55         72         85         75         59         79   \n",
       "5999         59         79         93         75         59         91   \n",
       "\n",
       "      Feature 7  Feature 8  Feature 9  Feature 10  ...  Feature 28  \\\n",
       "0           106         79         84         102  ...         104   \n",
       "1           102         83         80         102  ...         100   \n",
       "2           102         79         84          94  ...          87   \n",
       "3           102         79         80          94  ...          79   \n",
       "4            98         76         80         102  ...          79   \n",
       "...         ...        ...        ...         ...  ...         ...   \n",
       "5995         93         79         55          75  ...          79   \n",
       "5996         93         71         55          72  ...          79   \n",
       "5997         85         75         59          79  ...          72   \n",
       "5998         93         75         59          91  ...          68   \n",
       "5999        104         83         59          87  ...          72   \n",
       "\n",
       "      Feature 29  Feature 30  Feature 31  Feature 32  Feature 33  Feature 34  \\\n",
       "0             88         121         128         100          84         107   \n",
       "1             84         107         113          87          84          99   \n",
       "2             84          99         104          79          84          99   \n",
       "3             84          99         104          79          84         103   \n",
       "4             84         103         104          79          79         107   \n",
       "...          ...         ...         ...         ...         ...         ...   \n",
       "5995          56          81          97          79          52          73   \n",
       "5996          52          66          86          72          52          66   \n",
       "5997          52          66          82          68          56          70   \n",
       "5998          56          70          82          72          56          84   \n",
       "5999          56          84          97          79          59          91   \n",
       "\n",
       "      Feature 35  Feature 36  Label  \n",
       "0            113          87      3  \n",
       "1            104          79      3  \n",
       "2            104          79      3  \n",
       "3            104          79      3  \n",
       "4            109          87      3  \n",
       "...          ...         ...    ...  \n",
       "5995          93          79      1  \n",
       "5996          82          68      1  \n",
       "5997          82          72      1  \n",
       "5998          97          79      1  \n",
       "5999         101          86      1  \n",
       "\n",
       "[6000 rows x 37 columns]"
      ]
     },
     "execution_count": 2,
     "metadata": {},
     "output_type": "execute_result"
    }
   ],
   "source": [
    "data=pd.read_csv('data/landsat/landsat.csv')\n",
    "data"
   ]
  },
  {
   "cell_type": "code",
   "execution_count": 3,
   "metadata": {},
   "outputs": [
    {
     "name": "stdout",
     "output_type": "stream",
     "text": [
      "   Feature 1  Feature 2  Feature 3  Feature 4  Feature 5  Feature 6  \\\n",
      "0         92        115        120         94         84        102   \n",
      "1         84        102        106         79         84        102   \n",
      "2         84        102        102         83         80        102   \n",
      "3         80        102        102         79         84         94   \n",
      "4         84         94        102         79         80         94   \n",
      "\n",
      "   Feature 7  Feature 8  Feature 9  Feature 10  ...  Feature 27  Feature 28  \\\n",
      "0        106         79         84         102  ...         134         104   \n",
      "1        102         83         80         102  ...         128         100   \n",
      "2        102         79         84          94  ...         113          87   \n",
      "3        102         79         80          94  ...         104          79   \n",
      "4         98         76         80         102  ...         104          79   \n",
      "\n",
      "   Feature 29  Feature 30  Feature 31  Feature 32  Feature 33  Feature 34  \\\n",
      "0          88         121         128         100          84         107   \n",
      "1          84         107         113          87          84          99   \n",
      "2          84          99         104          79          84          99   \n",
      "3          84          99         104          79          84         103   \n",
      "4          84         103         104          79          79         107   \n",
      "\n",
      "   Feature 35  Feature 36  \n",
      "0         113          87  \n",
      "1         104          79  \n",
      "2         104          79  \n",
      "3         104          79  \n",
      "4         109          87  \n",
      "\n",
      "[5 rows x 36 columns]\n",
      "0    3\n",
      "1    3\n",
      "2    3\n",
      "3    3\n",
      "4    3\n",
      "Name: Label, dtype: int64\n"
     ]
    }
   ],
   "source": [
    "# Seperating features into X and label values into y\n",
    "feature_columns=['Feature 1','Feature 2','Feature 3','Feature 4','Feature 5','Feature 6','Feature 7','Feature 8','Feature 9','Feature 10','Feature 11','Feature 12','Feature 13','Feature 14','Feature 15','Feature 16','Feature 17','Feature 18','Feature 19','Feature 20','Feature 21','Feature 22','Feature 23','Feature 24','Feature 25','Feature 26','Feature 27','Feature 28','Feature 29','Feature 30','Feature 31','Feature 32','Feature 33','Feature 34','Feature 35','Feature 36']\n",
    "X=data[feature_columns]\n",
    "y=data['Label']\n",
    "print(X.head())\n",
    "print(y.head())"
   ]
  },
  {
   "cell_type": "code",
   "execution_count": 4,
   "metadata": {},
   "outputs": [
    {
     "name": "stdout",
     "output_type": "stream",
     "text": [
      "(4500, 36)\n",
      "(4500,)\n",
      "(1500, 36)\n",
      "(1500,)\n"
     ]
    }
   ],
   "source": [
    "# Splitting into training and testing dataset\n",
    "from sklearn.model_selection import train_test_split\n",
    "X_train, X_test, y_train, y_test = train_test_split(X, y)\n",
    "\n",
    "print(X_train.shape)\n",
    "print(y_train.shape)\n",
    "print(X_test.shape)\n",
    "print(y_test.shape)"
   ]
  },
  {
   "cell_type": "code",
   "execution_count": 5,
   "metadata": {},
   "outputs": [],
   "source": [
    "# Let us first build a 1-NN classification model\n",
    "from sklearn.neighbors import KNeighborsClassifier\n",
    "neigh = KNeighborsClassifier(n_neighbors=1)"
   ]
  },
  {
   "cell_type": "code",
   "execution_count": 6,
   "metadata": {},
   "outputs": [
    {
     "data": {
      "text/plain": [
       "KNeighborsClassifier(n_neighbors=1)"
      ]
     },
     "execution_count": 6,
     "metadata": {},
     "output_type": "execute_result"
    }
   ],
   "source": [
    "# training the model\n",
    "neigh.fit(X_train,y_train)"
   ]
  },
  {
   "cell_type": "code",
   "execution_count": 7,
   "metadata": {},
   "outputs": [],
   "source": [
    "# model predictions on the test set\n",
    "y_predictions = neigh.predict(X_test)"
   ]
  },
  {
   "cell_type": "code",
   "execution_count": 8,
   "metadata": {},
   "outputs": [
    {
     "name": "stdout",
     "output_type": "stream",
     "text": [
      "Accuracy score on the test set:  0.9033333333333333\n"
     ]
    }
   ],
   "source": [
    "# reporting accuracy score on the test set\n",
    "import sklearn.metrics as metrics\n",
    "print(\"Accuracy score on the test set: \", metrics.accuracy_score(y_test, y_predictions))"
   ]
  },
  {
   "cell_type": "code",
   "execution_count": 9,
   "metadata": {},
   "outputs": [
    {
     "name": "stdout",
     "output_type": "stream",
     "text": [
      "              precision    recall  f1-score   support\n",
      "\n",
      "           1       0.98      0.98      0.98       312\n",
      "           2       0.96      0.97      0.96       156\n",
      "           3       0.90      0.92      0.91       335\n",
      "           4       0.74      0.67      0.70       168\n",
      "           5       0.91      0.88      0.90       164\n",
      "           7       0.89      0.91      0.90       365\n",
      "\n",
      "    accuracy                           0.90      1500\n",
      "   macro avg       0.89      0.89      0.89      1500\n",
      "weighted avg       0.90      0.90      0.90      1500\n",
      "\n"
     ]
    }
   ],
   "source": [
    "print(metrics.classification_report(y_test, y_predictions))"
   ]
  },
  {
   "cell_type": "code",
   "execution_count": 10,
   "metadata": {},
   "outputs": [
    {
     "name": "stdout",
     "output_type": "stream",
     "text": [
      "Accuracy scores :  [0.894, 0.912, 0.8993333333333333, 0.9, 0.892, 0.8966666666666666, 0.8906666666666667, 0.896, 0.892, 0.89]\n",
      "\n",
      "Array of Accuracy scores show that when k = 3, accuracy score is highest (0.912)\n"
     ]
    }
   ],
   "source": [
    "#Let us try the KNN classifier with other values of K to find an optimal candidate\n",
    "\n",
    "scores = {}\n",
    "scores_list = []\n",
    "for k in range (2,12): #We will compare accuracy scores for k in range of 2 to 12\n",
    "    \n",
    "    knn = KNeighborsClassifier(n_neighbors = k) #for each K, build the model\n",
    "    knn.fit(X_train,y_train)\n",
    "    y_pred = knn.predict(X_test)\n",
    "    scores[k] = metrics.accuracy_score(y_test,y_pred) #calculate accuracy score for each k\n",
    "    scores_list.append(metrics.accuracy_score(y_test, y_pred)) #store accuracy score of each k in a list\n",
    "\n",
    "print('Accuracy scores : ', scores_list)\n",
    "print()\n",
    "print('Array of Accuracy scores show that when k = 3, accuracy score is highest ('+ str(scores_list[1]) +')')\n"
   ]
  },
  {
   "cell_type": "code",
   "execution_count": 11,
   "metadata": {},
   "outputs": [
    {
     "name": "stdout",
     "output_type": "stream",
     "text": [
      "Graph also shows that accuracy score is highest when k = 3\n"
     ]
    },
    {
     "data": {
      "image/png": "[encoded data removed]",
      "text/plain": [
       "<Figure size 432x288 with 1 Axes>"
      ]
     },
     "metadata": {
      "needs_background": "light"
     },
     "output_type": "display_data"
    }
   ],
   "source": [
    "#Let us now plot a graph to compare accuracy scores for all k obtained\n",
    "k_range = range (2,12)\n",
    "import matplotlib.pyplot as plt\n",
    "plt.plot(k_range, scores_list)\n",
    "plt.xlabel('Value of K')\n",
    "plt.ylabel('Accuracy Score')\n",
    "print('Graph also shows that accuracy score is highest when k = 3')"
   ]
  },
  {
   "cell_type": "code",
   "execution_count": 12,
   "metadata": {},
   "outputs": [],
   "source": [
    "#Let us compare the classifier in terms of another performance metric 'mean error' to confirm our above observation\n",
    "#that k should be 3\n",
    "\n",
    "error = []\n",
    "\n",
    "# Calculating error for K values between 1 and 40\n",
    "for i in range(2, 12): #In the same range, we again train the model to calculate mean error for each k \n",
    "    knn = KNeighborsClassifier(n_neighbors = i)\n",
    "    knn.fit(X_train, y_train)\n",
    "    pred_i = knn.predict(X_test)\n",
    "    error.append(np.mean(pred_i != y_test))"
   ]
  },
  {
   "cell_type": "code",
   "execution_count": 13,
   "metadata": {
    "scrolled": true
   },
   "outputs": [
    {
     "data": {
      "text/plain": [
       "Text(0, 0.5, 'Mean Error')"
      ]
     },
     "execution_count": 13,
     "metadata": {},
     "output_type": "execute_result"
    },
    {
     "data": {
      "image/png": "[encoded data removed]",
      "text/plain": [
       "<Figure size 576x288 with 1 Axes>"
      ]
     },
     "metadata": {
      "needs_background": "light"
     },
     "output_type": "display_data"
    }
   ],
   "source": [
    "#Let us plot a graph to compare the mean error rate for each k value\n",
    "\n",
    "plt.figure(figsize=(8, 4))\n",
    "plt.plot(range(2, 12), error, color='blue', marker='o',\n",
    "         markerfacecolor='yellow', markersize=10)\n",
    "plt.title('Comparison of mean error against different values of K')\n",
    "plt.xlabel('Value of K')\n",
    "plt.ylabel('Mean Error')\n"
   ]
  },
  {
   "cell_type": "code",
   "execution_count": 14,
   "metadata": {},
   "outputs": [
    {
     "name": "stdout",
     "output_type": "stream",
     "text": [
      "We select k = 3 for the following reasons:\n",
      "The accuracy score array and first graph show that accuracy score is highest when k = 3\n",
      "The second graph shows that mean error is lowest when k =3\n"
     ]
    }
   ],
   "source": [
    "print('We select k = 3 for the following reasons:')\n",
    "print(\"The accuracy score array and first graph show that accuracy score is highest when k = 3\")\n",
    "print('The second graph shows that mean error is lowest when k =3')"
   ]
  },
  {
   "cell_type": "code",
   "execution_count": 15,
   "metadata": {},
   "outputs": [],
   "source": [
    "from sklearn.tree import DecisionTreeClassifier\n",
    "#Instantiation of our decision tree\n",
    "dt = DecisionTreeClassifier(random_state=10)"
   ]
  },
  {
   "cell_type": "code",
   "execution_count": 16,
   "metadata": {},
   "outputs": [
    {
     "data": {
      "text/plain": [
       "DecisionTreeClassifier(random_state=10)"
      ]
     },
     "execution_count": 16,
     "metadata": {},
     "output_type": "execute_result"
    }
   ],
   "source": [
    "# Training model on training data\n",
    "dt.fit(X_train, y_train)"
   ]
  },
  {
   "cell_type": "code",
   "execution_count": 17,
   "metadata": {},
   "outputs": [],
   "source": [
    "# making predictions on the test set\n",
    "y_pred = dt.predict(X_test)"
   ]
  },
  {
   "cell_type": "code",
   "execution_count": 18,
   "metadata": {},
   "outputs": [
    {
     "name": "stdout",
     "output_type": "stream",
     "text": [
      "Accuracy score on the test set:  0.838\n"
     ]
    }
   ],
   "source": [
    "# reporting accuracy score on the test set\n",
    "print(\"Accuracy score on the test set: \", metrics.accuracy_score(y_test, y_pred))"
   ]
  },
  {
   "cell_type": "code",
   "execution_count": 19,
   "metadata": {},
   "outputs": [
    {
     "name": "stdout",
     "output_type": "stream",
     "text": [
      "              precision    recall  f1-score   support\n",
      "\n",
      "           1       0.93      0.94      0.94       312\n",
      "           2       0.92      0.93      0.92       156\n",
      "           3       0.88      0.86      0.87       335\n",
      "           4       0.54      0.55      0.55       168\n",
      "           5       0.81      0.76      0.79       164\n",
      "           7       0.83      0.85      0.84       365\n",
      "\n",
      "    accuracy                           0.84      1500\n",
      "   macro avg       0.82      0.82      0.82      1500\n",
      "weighted avg       0.84      0.84      0.84      1500\n",
      "\n"
     ]
    }
   ],
   "source": [
    "#Printing the classification report of our test set\n",
    "print(metrics.classification_report(y_test, y_pred))"
   ]
  },
  {
   "cell_type": "code",
   "execution_count": 20,
   "metadata": {},
   "outputs": [
    {
     "data": {
      "text/plain": [
       "{'ccp_alphas': array([0.        , 0.0001962 , 0.0002    , 0.00020635, 0.00020741,\n",
       "        0.00021053, 0.00021164, 0.00021256, 0.00021256, 0.00021399,\n",
       "        0.00021566, 0.00021587, 0.00021852, 0.00022015, 0.00022016,\n",
       "        0.00022103, 0.00022141, 0.00022174, 0.00022222, 0.00022222,\n",
       "        0.00022222, 0.00022222, 0.00022222, 0.00022222, 0.00022222,\n",
       "        0.00022222, 0.00022222, 0.00022222, 0.00022222, 0.00022222,\n",
       "        0.00022222, 0.00022222, 0.00022222, 0.00022222, 0.00022222,\n",
       "        0.00022222, 0.00022222, 0.00022222, 0.00022222, 0.00022222,\n",
       "        0.00022222, 0.00022222, 0.00022222, 0.00022222, 0.0002884 ,\n",
       "        0.0002963 , 0.0002963 , 0.0002963 , 0.0002963 , 0.0002963 ,\n",
       "        0.0002963 , 0.0002963 , 0.0002963 , 0.0002963 , 0.0002963 ,\n",
       "        0.0002963 , 0.0002963 , 0.0002963 , 0.0002963 , 0.0003172 ,\n",
       "        0.00032898, 0.00032953, 0.00033333, 0.00033333, 0.00033333,\n",
       "        0.00033333, 0.00033333, 0.00033333, 0.00033333, 0.00033333,\n",
       "        0.00033333, 0.00033333, 0.00033333, 0.00033333, 0.00033333,\n",
       "        0.00033333, 0.00033528, 0.00035556, 0.00035556, 0.00035556,\n",
       "        0.00035556, 0.00036737, 0.00036768, 0.00037037, 0.00037037,\n",
       "        0.00038095, 0.00038095, 0.00038095, 0.00038095, 0.00038519,\n",
       "        0.00038889, 0.00038889, 0.00038904, 0.00038969, 0.00038969,\n",
       "        0.00039407, 0.00039506, 0.00039506, 0.0004    , 0.0004    ,\n",
       "        0.0004    , 0.00040404, 0.00040404, 0.00041026, 0.00041026,\n",
       "        0.00041481, 0.00041481, 0.00041667, 0.00041667, 0.00041667,\n",
       "        0.00042125, 0.00042222, 0.00042271, 0.00042328, 0.00042341,\n",
       "        0.00042424, 0.00042593, 0.00042843, 0.00042857, 0.00042929,\n",
       "        0.0004321 , 0.00043214, 0.00043923, 0.00043925, 0.00044373,\n",
       "        0.00044444, 0.00044444, 0.00044444, 0.00044444, 0.00044862,\n",
       "        0.00045121, 0.00045971, 0.00047129, 0.00047619, 0.00047619,\n",
       "        0.00047629, 0.00048447, 0.00048889, 0.00049345, 0.0005    ,\n",
       "        0.00051515, 0.00051852, 0.00051852, 0.00051852, 0.00051852,\n",
       "        0.00052033, 0.00053129, 0.00053333, 0.00053333, 0.00053333,\n",
       "        0.00053872, 0.00054025, 0.00054191, 0.00054545, 0.00055081,\n",
       "        0.00055128, 0.00055507, 0.00055926, 0.00057331, 0.00059259,\n",
       "        0.00059384, 0.00059704, 0.0005975 , 0.00059885, 0.00060494,\n",
       "        0.00061538, 0.00061773, 0.00062222, 0.00062593, 0.00063636,\n",
       "        0.00063699, 0.00064141, 0.00064815, 0.00064815, 0.00065158,\n",
       "        0.00065567, 0.00065954, 0.00066765, 0.00067407, 0.00067588,\n",
       "        0.00069136, 0.00069444, 0.00070052, 0.00072222, 0.00072571,\n",
       "        0.00073016, 0.00073333, 0.00073889, 0.00075783, 0.0007619 ,\n",
       "        0.0007715 , 0.00077202, 0.00077462, 0.00077479, 0.00077951,\n",
       "        0.00078519, 0.00079107, 0.00079114, 0.00079628, 0.0008054 ,\n",
       "        0.00080712, 0.00082011, 0.00083457, 0.00085333, 0.0008658 ,\n",
       "        0.00087901, 0.00087963, 0.000882  , 0.0009123 , 0.00092189,\n",
       "        0.00092936, 0.00094575, 0.0009596 , 0.00098474, 0.00100529,\n",
       "        0.00111344, 0.00111429, 0.00117328, 0.00117915, 0.0011792 ,\n",
       "        0.00119658, 0.00119869, 0.00120984, 0.00122923, 0.00124783,\n",
       "        0.00127889, 0.0013036 , 0.0013054 , 0.00132692, 0.00136356,\n",
       "        0.00139074, 0.00140523, 0.00142841, 0.00152596, 0.00152929,\n",
       "        0.0015379 , 0.00156731, 0.00176611, 0.00186574, 0.00234695,\n",
       "        0.00251106, 0.00264735, 0.00288304, 0.00319982, 0.00333877,\n",
       "        0.00339752, 0.0034291 , 0.00366972, 0.00431565, 0.0046912 ,\n",
       "        0.00590932, 0.00731589, 0.00797703, 0.0108331 , 0.01161776,\n",
       "        0.01380331, 0.0238919 , 0.02681081, 0.0336064 , 0.06826963,\n",
       "        0.11075798, 0.12124357, 0.14712212]),\n",
       " 'impurities': array([0.        , 0.00176579, 0.00216579, 0.00257848, 0.0029933 ,\n",
       "        0.00341435, 0.00383763, 0.00426275, 0.00468787, 0.00511586,\n",
       "        0.00640981, 0.00684156, 0.00727859, 0.00771888, 0.00815921,\n",
       "        0.00992742, 0.01081306, 0.01125654, 0.01147877, 0.01170099,\n",
       "        0.01192321, 0.01214543, 0.01236766, 0.01258988, 0.0128121 ,\n",
       "        0.01303432, 0.01347877, 0.01392321, 0.01414543, 0.01436766,\n",
       "        0.01458988, 0.0148121 , 0.01503432, 0.01525654, 0.01547877,\n",
       "        0.01570099, 0.01592321, 0.01614543, 0.01636766, 0.01658988,\n",
       "        0.0168121 , 0.01703432, 0.01725654, 0.01747877, 0.01834395,\n",
       "        0.01864025, 0.01893654, 0.01923284, 0.01952914, 0.01982543,\n",
       "        0.02012173, 0.02041803, 0.02071432, 0.02101062, 0.02130692,\n",
       "        0.02160321, 0.02189951, 0.0221958 , 0.0224921 , 0.02376089,\n",
       "        0.02441886, 0.02606649, 0.02639983, 0.02673316, 0.02706649,\n",
       "        0.02739983, 0.02773316, 0.02806649, 0.02839983, 0.02873316,\n",
       "        0.02906649, 0.02939983, 0.02973316, 0.03006649, 0.03039983,\n",
       "        0.03073316, 0.03173901, 0.03209456, 0.03245012, 0.03280568,\n",
       "        0.03316123, 0.0335286 , 0.03389628, 0.03426665, 0.03463702,\n",
       "        0.03501797, 0.03539893, 0.03577988, 0.03616083, 0.0369312 ,\n",
       "        0.03732009, 0.03770898, 0.03809802, 0.03848772, 0.03887741,\n",
       "        0.03927148, 0.03966655, 0.04006161, 0.04046161, 0.04086161,\n",
       "        0.04126161, 0.04166565, 0.04206969, 0.04247995, 0.04371071,\n",
       "        0.04412553, 0.04454034, 0.04495701, 0.04579034, 0.04620701,\n",
       "        0.04999825, 0.05042048, 0.05084318, 0.05126647, 0.05168987,\n",
       "        0.05211412, 0.05254004, 0.05296848, 0.05339705, 0.05425563,\n",
       "        0.05468773, 0.05511987, 0.057316  , 0.05819451, 0.05908198,\n",
       "        0.05952642, 0.05997087, 0.06041531, 0.06085976, 0.061757  ,\n",
       "        0.06265942, 0.06357884, 0.06499272, 0.06546891, 0.0659451 ,\n",
       "        0.07070802, 0.07216143, 0.07313921, 0.07363265, 0.07413265,\n",
       "        0.07516296, 0.07568148, 0.07619999, 0.07671851, 0.07723703,\n",
       "        0.0782777 , 0.07880899, 0.07934232, 0.07987565, 0.08040899,\n",
       "        0.08148643, 0.08256692, 0.08310883, 0.08365429, 0.08530671,\n",
       "        0.08585799, 0.08641307, 0.08697233, 0.08754563, 0.08813823,\n",
       "        0.09110742, 0.09170446, 0.09230196, 0.09290081, 0.09350575,\n",
       "        0.09473651, 0.09597197, 0.09659419, 0.09784604, 0.09975512,\n",
       "        0.10039211, 0.10103353, 0.10168167, 0.10232982, 0.10298141,\n",
       "        0.10363707, 0.10495614, 0.1056238 , 0.10697195, 0.10764782,\n",
       "        0.10833918, 0.10903363, 0.10973414, 0.11045637, 0.11118208,\n",
       "        0.11191224, 0.1133789 , 0.11411779, 0.11487563, 0.11563753,\n",
       "        0.11795204, 0.11872405, 0.11949867, 0.12027346, 0.12105297,\n",
       "        0.12183815, 0.1234203 , 0.12421144, 0.12500771, 0.12661852,\n",
       "        0.12742564, 0.12824575, 0.12908031, 0.12993364, 0.13079944,\n",
       "        0.13167845, 0.13255808, 0.13344008, 0.13435238, 0.13527427,\n",
       "        0.13620363, 0.13714938, 0.13810898, 0.13909372, 0.14009901,\n",
       "        0.14121245, 0.14232674, 0.14350002, 0.14703747, 0.14821667,\n",
       "        0.15060983, 0.15300721, 0.15421705, 0.15667552, 0.15792335,\n",
       "        0.15920224, 0.16050584, 0.16311663, 0.16444356, 0.16580712,\n",
       "        0.16719786, 0.16860309, 0.1700315 , 0.17308342, 0.17461271,\n",
       "        0.17768851, 0.17925582, 0.18102192, 0.18288766, 0.18523461,\n",
       "        0.18774567, 0.19039303, 0.19327607, 0.19647589, 0.19981465,\n",
       "        0.20321217, 0.21007038, 0.2137401 , 0.21805575, 0.22274695,\n",
       "        0.22865627, 0.23597216, 0.24394919, 0.2547823 , 0.26640005,\n",
       "        0.28020337, 0.30409527, 0.33090608, 0.36451247, 0.4327821 ,\n",
       "        0.54354008, 0.66478365, 0.81190578])}"
      ]
     },
     "execution_count": 20,
     "metadata": {},
     "output_type": "execute_result"
    }
   ],
   "source": [
    "clf = DecisionTreeClassifier()\n",
    "path = clf.cost_complexity_pruning_path(X_train, y_train)\n",
    "path"
   ]
  },
  {
   "cell_type": "code",
   "execution_count": 21,
   "metadata": {},
   "outputs": [
    {
     "data": {
      "text/plain": [
       "Text(0, 0.5, 'total impurity of leaves')"
      ]
     },
     "execution_count": 21,
     "metadata": {},
     "output_type": "execute_result"
    },
    {
     "data": {
      "image/png": "[encoded data removed]",
      "text/plain": [
       "<Figure size 720x432 with 1 Axes>"
      ]
     },
     "metadata": {
      "needs_background": "light"
     },
     "output_type": "display_data"
    }
   ],
   "source": [
    "#Pruning technique to see how effective alpha values affect accuracy scores.\n",
    "ccp_alphas, impurities = path.ccp_alphas, path.impurities\n",
    "\n",
    "plt.figure(figsize=(10, 6))\n",
    "plt.plot(ccp_alphas, impurities)\n",
    "plt.xlabel(\"effective alpha\")\n",
    "plt.ylabel(\"total impurity of leaves\")"
   ]
  },
  {
   "cell_type": "code",
   "execution_count": 22,
   "metadata": {},
   "outputs": [],
   "source": [
    "clfs = []\n",
    "\n",
    "for ccp_alpha in ccp_alphas: #Building model with different alpha values\n",
    "    clf = DecisionTreeClassifier(random_state=10, ccp_alpha=ccp_alpha)\n",
    "    clf.fit(X_train, y_train)\n",
    "    clfs.append(clf)"
   ]
  },
  {
   "cell_type": "code",
   "execution_count": 23,
   "metadata": {},
   "outputs": [
    {
     "data": {
      "text/plain": [
       "Text(0, 0.5, 'total depth')"
      ]
     },
     "execution_count": 23,
     "metadata": {},
     "output_type": "execute_result"
    },
    {
     "data": {
      "image/png": "[encoded data removed]",
      "text/plain": [
       "<Figure size 720x432 with 1 Axes>"
      ]
     },
     "metadata": {
      "needs_background": "light"
     },
     "output_type": "display_data"
    }
   ],
   "source": [
    "depthOfTree = [clf.tree_.max_depth for clf in clfs]\n",
    "plt.figure(figsize=(10,  6))\n",
    "plt.plot(ccp_alphas[:-1], depthOfTree[:-1])\n",
    "plt.xlabel(\"effective alpha\")\n",
    "plt.ylabel(\"total depth\")"
   ]
  },
  {
   "cell_type": "code",
   "execution_count": 24,
   "metadata": {},
   "outputs": [
    {
     "name": "stdout",
     "output_type": "stream",
     "text": [
      "\n",
      "We can see from the graph that accuracy score is highest when specific values of effective alpha is selected.\n"
     ]
    },
    {
     "data": {
      "image/png": "[encoded data removed]",
      "text/plain": [
       "<Figure size 720x432 with 1 Axes>"
      ]
     },
     "metadata": {
      "needs_background": "light"
     },
     "output_type": "display_data"
    }
   ],
   "source": [
    "#Let us plot a graph to see how the effective alpha value affects accuracy scores.\n",
    "from sklearn.metrics import accuracy_score\n",
    "\n",
    "acc_scores = [accuracy_score(y_test, clf.predict(X_test)) for clf in clfs]\n",
    "\n",
    "depthOfTree = [clf.tree_.max_depth for clf in clfs]\n",
    "plt.figure(figsize=(10,  6))\n",
    "plt.grid()\n",
    "plt.plot(ccp_alphas[:-1], acc_scores[:-1])\n",
    "plt.xlabel(\"effective alpha\")\n",
    "plt.ylabel(\"Accuracy scores\")\n",
    "print()\n",
    "print(\"We can see from the graph that accuracy score is highest when specific values of effective alpha is selected.\")"
   ]
  },
  {
   "cell_type": "code",
   "execution_count": 25,
   "metadata": {},
   "outputs": [],
   "source": [
    "#Now let us try tuning another hyperparameter 'max_depth'\n",
    "\n",
    "Dtc = DecisionTreeClassifier(criterion='entropy')\n",
    "Dtc.fit(X_train, y_train)\n",
    "y_pred = Dtc.predict(X_test)\n"
   ]
  },
  {
   "cell_type": "code",
   "execution_count": 26,
   "metadata": {},
   "outputs": [
    {
     "data": {
      "text/plain": [
       "DecisionTreeClassifier(criterion='entropy')"
      ]
     },
     "execution_count": 26,
     "metadata": {},
     "output_type": "execute_result"
    }
   ],
   "source": [
    "# Building the decision tree model\n",
    "Dtc = DecisionTreeClassifier(criterion='entropy')\n",
    "Dtc.fit(X_train, y_train)"
   ]
  },
  {
   "cell_type": "code",
   "execution_count": 27,
   "metadata": {},
   "outputs": [
    {
     "name": "stdout",
     "output_type": "stream",
     "text": [
      "[[299   0   4   0   8   1]\n",
      " [  2 143   2   2   5   2]\n",
      " [  7   0 291  23   4  10]\n",
      " [  1   2  35  83   2  45]\n",
      " [ 11   4   1   4 130  14]\n",
      " [  1   3   8  37  15 301]]\n",
      "              precision    recall  f1-score   support\n",
      "\n",
      "           1       0.93      0.96      0.94       312\n",
      "           2       0.94      0.92      0.93       156\n",
      "           3       0.85      0.87      0.86       335\n",
      "           4       0.56      0.49      0.52       168\n",
      "           5       0.79      0.79      0.79       164\n",
      "           7       0.81      0.82      0.82       365\n",
      "\n",
      "    accuracy                           0.83      1500\n",
      "   macro avg       0.81      0.81      0.81      1500\n",
      "weighted avg       0.83      0.83      0.83      1500\n",
      "\n"
     ]
    }
   ],
   "source": [
    "from sklearn.metrics import classification_report, confusion_matrix, accuracy_score\n",
    "# Prediction/Testing\n",
    "y_pred = Dtc.predict(X_test)\n",
    "# Performance metrics\n",
    "print(confusion_matrix(y_test, y_pred))\n",
    "print(classification_report(y_test, y_pred))"
   ]
  },
  {
   "cell_type": "code",
   "execution_count": 28,
   "metadata": {},
   "outputs": [
    {
     "data": {
      "image/png": "[encoded data removed]",
      "text/plain": [
       "<Figure size 432x288 with 1 Axes>"
      ]
     },
     "metadata": {
      "needs_background": "light"
     },
     "output_type": "display_data"
    },
    {
     "name": "stdout",
     "output_type": "stream",
     "text": [
      "\n",
      "We can see from the graph how selecting different values for max_depth affects accuracy score.\n"
     ]
    }
   ],
   "source": [
    "# Tuning the model hypberparameter \"max_depth\"\n",
    "\n",
    "max_depths = range(1, 9)\n",
    "acc_scores = []\n",
    "\n",
    "for depth in max_depths:\n",
    "    dTree = DecisionTreeClassifier(max_depth = depth, random_state = 142)\n",
    "    dTree.fit(X_train, y_train)\n",
    "    y_pred = dTree.predict(X_test)\n",
    "    acc_scores.append(accuracy_score(y_test, y_pred))\n",
    "    \n",
    "plt.plot(max_depths, acc_scores, color='blue', marker='o', markerfacecolor='yellow', markersize=10)\n",
    "plt.title('Comparison of how Accuracy Score changes in relation to the value of Max Depth')\n",
    "plt.xlabel('Max Depth')\n",
    "plt.xticks(max_depths)\n",
    "plt.ylabel('Accuracy Score')\n",
    "plt.show()\n",
    "print()\n",
    "print(\"We can see from the graph how selecting different values for max_depth affects accuracy score.\")"
   ]
  },
  {
   "cell_type": "code",
   "execution_count": null,
   "metadata": {},
   "outputs": [],
   "source": []
  }
 ],
 "metadata": {
  "kernelspec": {
   "display_name": "Python 3",
   "language": "python",
   "name": "python3"
  },
  "language_info": {
   "codemirror_mode": {
    "name": "ipython",
    "version": 3
   },
   "file_extension": ".py",
   "mimetype": "text/x-python",
   "name": "python",
   "nbconvert_exporter": "python",
   "pygments_lexer": "ipython3",
   "version": "3.8.5"
  }
 },
 "nbformat": 4,
 "nbformat_minor": 2
}
