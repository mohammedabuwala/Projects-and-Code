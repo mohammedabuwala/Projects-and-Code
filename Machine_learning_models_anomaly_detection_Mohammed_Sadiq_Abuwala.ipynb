{
 "cells": [
  {
   "cell_type": "markdown",
   "metadata": {},
   "source": [
    "# Assignment I Task-4"
   ]
  },
  {
   "cell_type": "markdown",
   "metadata": {},
   "source": [
    "**Task-4** Anomaly Detection on two data sets (6 marks): \n",
    "\n",
    "Notes:\n",
    "\n",
    "1). Predictive Maintenance Data: The data set tries to build an anomaly detection to predict and detect the machine failures. The dataset consists of 10000 data points stored as rows with 14 attributes in columns. You still need pre-processing and feature extraction for this data set. Particularly, the target is the attribute “Machine Failure” (0 for normal points and 1 for anomaly), and you could simple ignore the last five columns as they have been merged into the attribute “Machine Failure”. There are a several columns that might not be suitable to included. Note that the encoding of the target classes might affect the calculation of AUC scores.\n",
    "\n",
    "2). Network Traffic Data: This is the data set used for a competition. The competition task was to build a network intrusion detector, a predictive model capable of distinguishing between “bad” connections, called intrusions or attacks, and “good” normal connections. This database contains a standard set of data to be audited, which includes a wide variety of intrusions simulated in a military network environment. To facilitate your data analysis process, we have done sampling and data pre-processing for you. All the features are named as “Feature #”, and the last attribute is the label. The label just has two values (1 for normal data and -1 for anomalies).\n",
    "\n",
    "3). You are required to perform anomaly detection on the two data sets with multiple methods. One-class SVM is optional while we encourage you to complete it by learning it from the sklearn online document.  \n"
   ]
  },
  {
   "cell_type": "code",
   "execution_count": 1,
   "metadata": {},
   "outputs": [],
   "source": [
    "import pandas as pd\n",
    "import numpy as np\n",
    "import math\n",
    "from matplotlib import pyplot as plt\n",
    "\n",
    "# Pre-processing\n",
    "from sklearn import preprocessing\n",
    "\n",
    "# Anomaly Detection\n",
    "from sklearn.neighbors import LocalOutlierFactor\n",
    "from sklearn.ensemble import IsolationForest\n",
    "from sklearn.metrics import roc_auc_score\n",
    "\n",
    "import warnings\n",
    "warnings.filterwarnings(\"ignore\")"
   ]
  },
  {
   "cell_type": "code",
   "execution_count": 2,
   "metadata": {},
   "outputs": [
    {
     "name": "stdout",
     "output_type": "stream",
     "text": [
      "UDI                          int64\n",
      "Product ID                  object\n",
      "Type                        object\n",
      "Air temperature [K]        float64\n",
      "Process temperature [K]    float64\n",
      "Rotational speed [rpm]       int64\n",
      "Torque [Nm]                float64\n",
      "Tool wear [min]              int64\n",
      "Machine failure              int64\n",
      "TWF                          int64\n",
      "HDF                          int64\n",
      "PWF                          int64\n",
      "OSF                          int64\n",
      "RNF                          int64\n",
      "dtype: object\n"
     ]
    }
   ],
   "source": [
    "data1=pd.read_csv('data/predictive-maintenance/predictive-maintenance.csv')\n",
    "print(data1.dtypes)"
   ]
  },
  {
   "cell_type": "code",
   "execution_count": 3,
   "metadata": {},
   "outputs": [
    {
     "name": "stdout",
     "output_type": "stream",
     "text": [
      "UDI                        0.0\n",
      "Product ID                 0.0\n",
      "Type                       0.0\n",
      "Air temperature [K]        0.0\n",
      "Process temperature [K]    0.0\n",
      "Rotational speed [rpm]     0.0\n",
      "Torque [Nm]                0.0\n",
      "Tool wear [min]            0.0\n",
      "Machine failure            0.0\n",
      "TWF                        0.0\n",
      "HDF                        0.0\n",
      "PWF                        0.0\n",
      "OSF                        0.0\n",
      "RNF                        0.0\n",
      "dtype: float64\n"
     ]
    },
    {
     "data": {
      "text/html": [
       "<div>\n",
       "<style scoped>\n",
       "    .dataframe tbody tr th:only-of-type {\n",
       "        vertical-align: middle;\n",
       "    }\n",
       "\n",
       "    .dataframe tbody tr th {\n",
       "        vertical-align: top;\n",
       "    }\n",
       "\n",
       "    .dataframe thead th {\n",
       "        text-align: right;\n",
       "    }\n",
       "</style>\n",
       "<table border=\"1\" class=\"dataframe\">\n",
       "  <thead>\n",
       "    <tr style=\"text-align: right;\">\n",
       "      <th></th>\n",
       "      <th>Product ID</th>\n",
       "      <th>Type</th>\n",
       "      <th>Air temperature [K]</th>\n",
       "      <th>Process temperature [K]</th>\n",
       "      <th>Rotational speed [rpm]</th>\n",
       "      <th>Torque [Nm]</th>\n",
       "      <th>Tool wear [min]</th>\n",
       "      <th>Machine failure</th>\n",
       "    </tr>\n",
       "  </thead>\n",
       "  <tbody>\n",
       "    <tr>\n",
       "      <th>0</th>\n",
       "      <td>M14860</td>\n",
       "      <td>M</td>\n",
       "      <td>298.1</td>\n",
       "      <td>308.6</td>\n",
       "      <td>1551</td>\n",
       "      <td>42.8</td>\n",
       "      <td>0</td>\n",
       "      <td>0</td>\n",
       "    </tr>\n",
       "    <tr>\n",
       "      <th>1</th>\n",
       "      <td>L47181</td>\n",
       "      <td>L</td>\n",
       "      <td>298.2</td>\n",
       "      <td>308.7</td>\n",
       "      <td>1408</td>\n",
       "      <td>46.3</td>\n",
       "      <td>3</td>\n",
       "      <td>0</td>\n",
       "    </tr>\n",
       "    <tr>\n",
       "      <th>2</th>\n",
       "      <td>L47182</td>\n",
       "      <td>L</td>\n",
       "      <td>298.1</td>\n",
       "      <td>308.5</td>\n",
       "      <td>1498</td>\n",
       "      <td>49.4</td>\n",
       "      <td>5</td>\n",
       "      <td>0</td>\n",
       "    </tr>\n",
       "    <tr>\n",
       "      <th>3</th>\n",
       "      <td>L47183</td>\n",
       "      <td>L</td>\n",
       "      <td>298.2</td>\n",
       "      <td>308.6</td>\n",
       "      <td>1433</td>\n",
       "      <td>39.5</td>\n",
       "      <td>7</td>\n",
       "      <td>0</td>\n",
       "    </tr>\n",
       "    <tr>\n",
       "      <th>4</th>\n",
       "      <td>L47184</td>\n",
       "      <td>L</td>\n",
       "      <td>298.2</td>\n",
       "      <td>308.7</td>\n",
       "      <td>1408</td>\n",
       "      <td>40.0</td>\n",
       "      <td>9</td>\n",
       "      <td>0</td>\n",
       "    </tr>\n",
       "    <tr>\n",
       "      <th>...</th>\n",
       "      <td>...</td>\n",
       "      <td>...</td>\n",
       "      <td>...</td>\n",
       "      <td>...</td>\n",
       "      <td>...</td>\n",
       "      <td>...</td>\n",
       "      <td>...</td>\n",
       "      <td>...</td>\n",
       "    </tr>\n",
       "    <tr>\n",
       "      <th>9995</th>\n",
       "      <td>M24855</td>\n",
       "      <td>M</td>\n",
       "      <td>298.8</td>\n",
       "      <td>308.4</td>\n",
       "      <td>1604</td>\n",
       "      <td>29.5</td>\n",
       "      <td>14</td>\n",
       "      <td>0</td>\n",
       "    </tr>\n",
       "    <tr>\n",
       "      <th>9996</th>\n",
       "      <td>H39410</td>\n",
       "      <td>H</td>\n",
       "      <td>298.9</td>\n",
       "      <td>308.4</td>\n",
       "      <td>1632</td>\n",
       "      <td>31.8</td>\n",
       "      <td>17</td>\n",
       "      <td>0</td>\n",
       "    </tr>\n",
       "    <tr>\n",
       "      <th>9997</th>\n",
       "      <td>M24857</td>\n",
       "      <td>M</td>\n",
       "      <td>299.0</td>\n",
       "      <td>308.6</td>\n",
       "      <td>1645</td>\n",
       "      <td>33.4</td>\n",
       "      <td>22</td>\n",
       "      <td>0</td>\n",
       "    </tr>\n",
       "    <tr>\n",
       "      <th>9998</th>\n",
       "      <td>H39412</td>\n",
       "      <td>H</td>\n",
       "      <td>299.0</td>\n",
       "      <td>308.7</td>\n",
       "      <td>1408</td>\n",
       "      <td>48.5</td>\n",
       "      <td>25</td>\n",
       "      <td>0</td>\n",
       "    </tr>\n",
       "    <tr>\n",
       "      <th>9999</th>\n",
       "      <td>M24859</td>\n",
       "      <td>M</td>\n",
       "      <td>299.0</td>\n",
       "      <td>308.7</td>\n",
       "      <td>1500</td>\n",
       "      <td>40.2</td>\n",
       "      <td>30</td>\n",
       "      <td>0</td>\n",
       "    </tr>\n",
       "  </tbody>\n",
       "</table>\n",
       "<p>10000 rows × 8 columns</p>\n",
       "</div>"
      ],
      "text/plain": [
       "     Product ID Type  Air temperature [K]  Process temperature [K]  \\\n",
       "0        M14860    M                298.1                    308.6   \n",
       "1        L47181    L                298.2                    308.7   \n",
       "2        L47182    L                298.1                    308.5   \n",
       "3        L47183    L                298.2                    308.6   \n",
       "4        L47184    L                298.2                    308.7   \n",
       "...         ...  ...                  ...                      ...   \n",
       "9995     M24855    M                298.8                    308.4   \n",
       "9996     H39410    H                298.9                    308.4   \n",
       "9997     M24857    M                299.0                    308.6   \n",
       "9998     H39412    H                299.0                    308.7   \n",
       "9999     M24859    M                299.0                    308.7   \n",
       "\n",
       "      Rotational speed [rpm]  Torque [Nm]  Tool wear [min]  Machine failure  \n",
       "0                       1551         42.8                0                0  \n",
       "1                       1408         46.3                3                0  \n",
       "2                       1498         49.4                5                0  \n",
       "3                       1433         39.5                7                0  \n",
       "4                       1408         40.0                9                0  \n",
       "...                      ...          ...              ...              ...  \n",
       "9995                    1604         29.5               14                0  \n",
       "9996                    1632         31.8               17                0  \n",
       "9997                    1645         33.4               22                0  \n",
       "9998                    1408         48.5               25                0  \n",
       "9999                    1500         40.2               30                0  \n",
       "\n",
       "[10000 rows x 8 columns]"
      ]
     },
     "execution_count": 3,
     "metadata": {},
     "output_type": "execute_result"
    }
   ],
   "source": [
    "#Checking if any null values exist in the dataset\n",
    "print(data1.isna().sum()/len(data1)*100)\n",
    "\n",
    "#Removing veriables that do not contribute to our model\n",
    "data1 = data1.drop(['TWF'], axis='columns')\n",
    "data1 = data1.drop(['HDF'], axis='columns')\n",
    "data1 = data1.drop(['PWF'], axis='columns')\n",
    "data1 = data1.drop(['OSF'], axis='columns')\n",
    "data1 = data1.drop(['RNF'], axis='columns')\n",
    "data1 = data1.drop(['UDI'], axis='columns')\n",
    "data1\n"
   ]
  },
  {
   "cell_type": "code",
   "execution_count": 4,
   "metadata": {},
   "outputs": [
    {
     "data": {
      "text/plain": [
       "Product ID                  object\n",
       "Type                        object\n",
       "Air temperature [K]        float64\n",
       "Process temperature [K]    float64\n",
       "Rotational speed [rpm]       int64\n",
       "Torque [Nm]                float64\n",
       "Tool wear [min]              int64\n",
       "Machine failure              int64\n",
       "dtype: object"
      ]
     },
     "execution_count": 4,
     "metadata": {},
     "output_type": "execute_result"
    }
   ],
   "source": [
    "#checking format of our dataset as model takes numerical values\n",
    "data1.dtypes"
   ]
  },
  {
   "cell_type": "code",
   "execution_count": 5,
   "metadata": {},
   "outputs": [
    {
     "name": "stdout",
     "output_type": "stream",
     "text": [
      "      Product ID  Type  Air temperature [K]  Process temperature [K]  \\\n",
      "0           7003     2                298.1                    308.6   \n",
      "1           1003     1                298.2                    308.7   \n",
      "2           1004     1                298.1                    308.5   \n",
      "3           1005     1                298.2                    308.6   \n",
      "4           1006     1                298.2                    308.7   \n",
      "...          ...   ...                  ...                      ...   \n",
      "9995        9997     2                298.8                    308.4   \n",
      "9996        1001     0                298.9                    308.4   \n",
      "9997        9998     2                299.0                    308.6   \n",
      "9998        1002     0                299.0                    308.7   \n",
      "9999        9999     2                299.0                    308.7   \n",
      "\n",
      "      Rotational speed [rpm]  Torque [Nm]  Tool wear [min]  \n",
      "0                       1551         42.8                0  \n",
      "1                       1408         46.3                3  \n",
      "2                       1498         49.4                5  \n",
      "3                       1433         39.5                7  \n",
      "4                       1408         40.0                9  \n",
      "...                      ...          ...              ...  \n",
      "9995                    1604         29.5               14  \n",
      "9996                    1632         31.8               17  \n",
      "9997                    1645         33.4               22  \n",
      "9998                    1408         48.5               25  \n",
      "9999                    1500         40.2               30  \n",
      "\n",
      "[10000 rows x 7 columns]\n",
      "\n",
      " Anomaly rate: 0.483050 \n",
      "\n"
     ]
    }
   ],
   "source": [
    "#Converting 'Product ID' and 'Type' columns from type 'object' to 'category' so we can encode it.\n",
    "data1[\"Type\"] = data1[\"Type\"].astype('category')\n",
    "data1[\"Product ID\"] = data1[\"Product ID\"].astype('category')\n",
    "\n",
    "#using pandas label encoding to encode Product ID and Type.\n",
    "data1['Type'] = data1['Type'].cat.codes\n",
    "data1['Product ID'] = data1['Product ID'].cat.codes\n",
    "\n",
    "#storing feature values in X\n",
    "X = data1.drop(['Machine failure'], axis='columns')\n",
    "\n",
    "#Checking that targeted columns have been ecoded by printing the result of data manipulation on X.\n",
    "print(X)\n",
    "\n",
    "#normalizing the feature values stored in X.\n",
    "scaler = preprocessing.MinMaxScaler()\n",
    "X_data = X.values\n",
    "X_scaled = scaler.fit_transform(X_data)\n",
    "X = X_scaled\n",
    "\n",
    "#storing label values in Y so that we can build our model in the next step.\n",
    "y = data1['Machine failure'].values\n",
    "\n",
    "#Let us calculate the anomaly rate that exist in this dateset.\n",
    "print('\\n Anomaly rate: %f \\n' % (-1.0*(y-1).sum()/2.0/X.shape[0]))"
   ]
  },
  {
   "cell_type": "code",
   "execution_count": 6,
   "metadata": {},
   "outputs": [
    {
     "name": "stdout",
     "output_type": "stream",
     "text": [
      "[0.51294524 0.47309816 0.39191435 ... 0.47219449 0.47640622 0.41132922]\n"
     ]
    }
   ],
   "source": [
    "# Let us create the LOF model.\n",
    "detector_lof = LocalOutlierFactor(n_neighbors=10, novelty=True)\n",
    "\n",
    "# training our model.\n",
    "detector_lof.fit(X)\n",
    "\n",
    "# Calculating anomaly score.\n",
    "y_score = detector_lof.decision_function(X)\n",
    "print(y_score)"
   ]
  },
  {
   "cell_type": "code",
   "execution_count": 7,
   "metadata": {},
   "outputs": [
    {
     "name": "stdout",
     "output_type": "stream",
     "text": [
      "\n",
      " AUC score: 0.210709\n",
      "\n"
     ]
    }
   ],
   "source": [
    "# Evaluating using Area Under Curve.\n",
    "aucScore = roc_auc_score(y, y_score)\n",
    "print('\\n AUC score: %f\\n' % aucScore)"
   ]
  },
  {
   "cell_type": "code",
   "execution_count": 8,
   "metadata": {},
   "outputs": [
    {
     "name": "stdout",
     "output_type": "stream",
     "text": [
      "\n",
      " AUC score: 0.472856\n",
      "\n"
     ]
    }
   ],
   "source": [
    "# Predicting the Yes/No label.\n",
    "y_pred = detector_lof.predict(X)\n",
    "aucScore = roc_auc_score(y, y_pred)\n",
    "print('\\n AUC score: %f\\n' % aucScore)"
   ]
  },
  {
   "cell_type": "code",
   "execution_count": 9,
   "metadata": {},
   "outputs": [
    {
     "name": "stdout",
     "output_type": "stream",
     "text": [
      "[-0.00821731  0.00928343  0.0102187  ... -0.00155273 -0.02002052\n",
      "  0.02216641]\n"
     ]
    }
   ],
   "source": [
    "# Creating the iForest model.\n",
    "detector_if = IsolationForest()\n",
    "\n",
    "# Training our model model.\n",
    "detector_if.fit(X)\n",
    "\n",
    "# Calculating anomaly score.\n",
    "y_score = detector_if.decision_function(X)\n",
    "print(y_score)"
   ]
  },
  {
   "cell_type": "code",
   "execution_count": 10,
   "metadata": {},
   "outputs": [
    {
     "name": "stdout",
     "output_type": "stream",
     "text": [
      "\n",
      " AUC score: 0.255113\n",
      "\n"
     ]
    }
   ],
   "source": [
    "# Evaluating using Area Under Curve.\n",
    "aucScore = roc_auc_score(y, y_score)\n",
    "print('\\n AUC score: %f\\n' % aucScore)"
   ]
  },
  {
   "cell_type": "code",
   "execution_count": 11,
   "metadata": {},
   "outputs": [
    {
     "name": "stdout",
     "output_type": "stream",
     "text": [
      "\n",
      " AUC score: 0.344778\n",
      "\n"
     ]
    }
   ],
   "source": [
    "# Predict the Yes/No label.\n",
    "y_pred = detector_if.predict(X)\n",
    "print('\\n AUC score: %f\\n' % roc_auc_score(y, y_pred))"
   ]
  },
  {
   "cell_type": "code",
   "execution_count": 12,
   "metadata": {},
   "outputs": [
    {
     "data": {
      "image/png": "[encoded data removed]",
      "text/plain": [
       "<Figure size 432x288 with 1 Axes>"
      ]
     },
     "metadata": {
      "needs_background": "light"
     },
     "output_type": "display_data"
    }
   ],
   "source": [
    "# Let us try different values of K to find an ideal candidate for our LOF model\n",
    "auc_scores = []\n",
    "\n",
    "for i in range(5, 51, 5): # K values from 5 to 51 with a step of 5\n",
    "    \n",
    "    detector_lof = LocalOutlierFactor(n_neighbors=i, novelty=True)\n",
    "    detector_lof.fit(X) #Training model for each k value\n",
    "    y_score = detector_lof.decision_function(X)\n",
    "    auc = roc_auc_score(y, y_score) #calculating auc for each value of k\n",
    "    auc_scores.append(auc) #storing the auc_score for each value of k in a list\n",
    "\n",
    "#let us plot the relationship between auc and k\n",
    "plt.plot(range(5, 51, 5), auc_scores, marker='x')\n",
    "plt.xlabel('K')\n",
    "plt.ylabel('AUC')\n",
    "plt.show()"
   ]
  },
  {
   "cell_type": "code",
   "execution_count": 13,
   "metadata": {},
   "outputs": [
    {
     "data": {
      "image/png": "[encoded data removed]",
      "text/plain": [
       "<Figure size 432x288 with 1 Axes>"
      ]
     },
     "metadata": {
      "needs_background": "light"
     },
     "output_type": "display_data"
    },
    {
     "name": "stdout",
     "output_type": "stream",
     "text": [
      "\n",
      "End of Task 4, Part 1\n"
     ]
    }
   ],
   "source": [
    "#Let us try different sample sizes for iforest to identify an ideal candidate.\n",
    "\n",
    "auc_scores = []\n",
    "sample_sizes = []\n",
    "for i in range(5, 15):\n",
    "    sample_sizes.append(2**i)\n",
    "    detector_if = IsolationForest(max_samples=2**i)\n",
    "    detector_if.fit(X)\n",
    "    y_score = detector_if.decision_function(X)\n",
    "    auc = roc_auc_score(y, y_score)\n",
    "    auc_scores.append(auc)\n",
    "\n",
    "#let us plot the relationship between auc and k\n",
    "plt.plot(sample_sizes, auc_scores, marker='x')\n",
    "plt.xscale('log')\n",
    "plt.xlabel('Sample size (log)')\n",
    "plt.ylabel('AUC')\n",
    "plt.show()\n",
    "print()\n",
    "print(\"End of Task 4, Part 1\")"
   ]
  },
  {
   "cell_type": "code",
   "execution_count": 14,
   "metadata": {},
   "outputs": [
    {
     "data": {
      "text/plain": [
       "Feature 1     float64\n",
       "Feature 2     float64\n",
       "Feature 3     float64\n",
       "Feature 4       int64\n",
       "Feature 5     float64\n",
       "Feature 6       int64\n",
       "Feature 7     float64\n",
       "Feature 8     float64\n",
       "Feature 9       int64\n",
       "Feature 10    float64\n",
       "Feature 11      int64\n",
       "Feature 12    float64\n",
       "Feature 13    float64\n",
       "Feature 14    float64\n",
       "Feature 15    float64\n",
       "Feature 16    float64\n",
       "Feature 17      int64\n",
       "Feature 18      int64\n",
       "Feature 19      int64\n",
       "Feature 20    float64\n",
       "Feature 21    float64\n",
       "Feature 22    float64\n",
       "Feature 23    float64\n",
       "Feature 24    float64\n",
       "Feature 25    float64\n",
       "Feature 26    float64\n",
       "Feature 27    float64\n",
       "Feature 28    float64\n",
       "Feature 29    float64\n",
       "Feature 30    float64\n",
       "Feature 31    float64\n",
       "Feature 32    float64\n",
       "Feature 33    float64\n",
       "Feature 34    float64\n",
       "Feature 35    float64\n",
       "Feature 36    float64\n",
       "Feature 37    float64\n",
       "Feature 38    float64\n",
       "Label          object\n",
       "dtype: object"
      ]
     },
     "execution_count": 14,
     "metadata": {},
     "output_type": "execute_result"
    }
   ],
   "source": [
    "#Task 4, Part 2 starts here\n",
    "\n",
    "data2=pd.read_csv('data/network-traffic-analysis/kddcup99.csv')\n",
    "#Let us check the data types present in our dataset\n",
    "data2.dtypes"
   ]
  },
  {
   "cell_type": "code",
   "execution_count": 15,
   "metadata": {},
   "outputs": [
    {
     "name": "stdout",
     "output_type": "stream",
     "text": [
      "Feature 1     float64\n",
      "Feature 2     float64\n",
      "Feature 3     float64\n",
      "Feature 4       int64\n",
      "Feature 5     float64\n",
      "Feature 6       int64\n",
      "Feature 7     float64\n",
      "Feature 8     float64\n",
      "Feature 9       int64\n",
      "Feature 10    float64\n",
      "Feature 11      int64\n",
      "Feature 12    float64\n",
      "Feature 13    float64\n",
      "Feature 14    float64\n",
      "Feature 15    float64\n",
      "Feature 16    float64\n",
      "Feature 17      int64\n",
      "Feature 18      int64\n",
      "Feature 19      int64\n",
      "Feature 20    float64\n",
      "Feature 21    float64\n",
      "Feature 22    float64\n",
      "Feature 23    float64\n",
      "Feature 24    float64\n",
      "Feature 25    float64\n",
      "Feature 26    float64\n",
      "Feature 27    float64\n",
      "Feature 28    float64\n",
      "Feature 29    float64\n",
      "Feature 30    float64\n",
      "Feature 31    float64\n",
      "Feature 32    float64\n",
      "Feature 33    float64\n",
      "Feature 34    float64\n",
      "Feature 35    float64\n",
      "Feature 36    float64\n",
      "Feature 37    float64\n",
      "Feature 38    float64\n",
      "Label           int64\n",
      "dtype: object\n",
      "\n",
      " Anomaly rate: 0.035325 \n",
      "\n"
     ]
    }
   ],
   "source": [
    "df = pd.DataFrame(data2)\n",
    "#Calculation of the anomaly rate initially resulted in an error \"recieved str object, expected int\". Going through\n",
    "#the Label column showed that label value of row index 4022 was an alphabet 'f'. The assignment specification\n",
    "#stated that preprocessing has already been done for this dataset and label values are 1 or -1. Hence, this single\n",
    "#row was deemed as an error in the dataset and dropped. Once this single row was dropped, calculation of \n",
    "#performance metrics such as anomaly rate, auc score was successful. Furthermore, it was deemed that dropping this single\n",
    "#row would not skew the performance of the final model at any significant rate. \n",
    "df.iloc[4022]\n",
    "df = df.drop([4022]) \n",
    "\n",
    "#Converting Label column type from 'object' to 'integer'\n",
    "df['Label'] = pd.to_numeric(df['Label'])\n",
    "print(df.dtypes)\n",
    "\n",
    "#Seperating dataset into X and y\n",
    "X = df.drop(['Label'], axis='columns')\n",
    "y = df['Label'].values\n",
    "\n",
    "#Let us calculate the anomaly rate that exists in the dateset\n",
    "print('\\n Anomaly rate: %f \\n' % (-1.0*(y-1).sum()/2.0/X.shape[0]))"
   ]
  },
  {
   "cell_type": "code",
   "execution_count": 16,
   "metadata": {},
   "outputs": [
    {
     "name": "stdout",
     "output_type": "stream",
     "text": [
      "[ 0.3588208  -1.44040281  0.53807342 ... -0.01533551  0.51375318\n",
      "  0.48113802]\n"
     ]
    }
   ],
   "source": [
    "# Let us create the LOF model.\n",
    "detector_lof = LocalOutlierFactor(n_neighbors=10, novelty=True)\n",
    "\n",
    "# Training the model\n",
    "detector_lof.fit(X)\n",
    "\n",
    "#Let us calculate the anomaly score\n",
    "y_score = detector_lof.decision_function(X)\n",
    "print(y_score)"
   ]
  },
  {
   "cell_type": "code",
   "execution_count": 17,
   "metadata": {},
   "outputs": [
    {
     "name": "stdout",
     "output_type": "stream",
     "text": [
      "\n",
      " AUC score: 0.634666\n",
      "\n"
     ]
    }
   ],
   "source": [
    "# Evaluating using Area Under Curve\n",
    "aucScore = roc_auc_score(y, y_score)\n",
    "print('\\n AUC score: %f\\n' % aucScore)"
   ]
  },
  {
   "cell_type": "code",
   "execution_count": 18,
   "metadata": {},
   "outputs": [
    {
     "name": "stdout",
     "output_type": "stream",
     "text": [
      "\n",
      " AUC score: 0.602527\n",
      "\n"
     ]
    }
   ],
   "source": [
    "#Predicting the Yes/No label.\n",
    "y_pred = detector_lof.predict(X)\n",
    "aucScore = roc_auc_score(y, y_pred)\n",
    "print('\\n AUC score: %f\\n' % aucScore)"
   ]
  },
  {
   "cell_type": "code",
   "execution_count": 19,
   "metadata": {},
   "outputs": [
    {
     "name": "stdout",
     "output_type": "stream",
     "text": [
      "[0.15426657 0.15520373 0.15292506 ... 0.14168734 0.14215301 0.12826713]\n"
     ]
    }
   ],
   "source": [
    "# Let us create the iForest model.\n",
    "detector_if = IsolationForest()\n",
    "\n",
    "# Training the model\n",
    "detector_if.fit(X)\n",
    "\n",
    "#Let us calculate the anomaly score\n",
    "y_score = detector_if.decision_function(X)\n",
    "print(y_score)"
   ]
  },
  {
   "cell_type": "code",
   "execution_count": 20,
   "metadata": {},
   "outputs": [
    {
     "name": "stdout",
     "output_type": "stream",
     "text": [
      "\n",
      " AUC score: 0.899743\n",
      "\n"
     ]
    }
   ],
   "source": [
    "# Evaluating using Area Under Curve.\n",
    "aucScore = roc_auc_score(y, y_score)\n",
    "print('\\n AUC score: %f\\n' % aucScore)"
   ]
  },
  {
   "cell_type": "code",
   "execution_count": 21,
   "metadata": {
    "scrolled": true
   },
   "outputs": [
    {
     "name": "stdout",
     "output_type": "stream",
     "text": [
      "\n",
      " AUC score: 0.745782\n",
      "\n"
     ]
    }
   ],
   "source": [
    "# Predicting the Yes/No label. \n",
    "y_pred = detector_if.predict(X)\n",
    "print('\\n AUC score: %f\\n' % roc_auc_score(y, y_pred))"
   ]
  },
  {
   "cell_type": "code",
   "execution_count": 22,
   "metadata": {},
   "outputs": [
    {
     "data": {
      "image/png": "[encoded data removed]",
      "text/plain": [
       "<Figure size 432x288 with 1 Axes>"
      ]
     },
     "metadata": {
      "needs_background": "light"
     },
     "output_type": "display_data"
    }
   ],
   "source": [
    "# Let us try different values of K to find an ideal candidate for our LOF model\n",
    "\n",
    "auc_scores = []\n",
    "for i in range(5, 51, 5): # K values from 5 to 51 with a step of 5\n",
    "    detector_lof = LocalOutlierFactor(n_neighbors=i, novelty=True)\n",
    "    detector_lof.fit(X) #training model for each k value\n",
    "    y_score = detector_lof.decision_function(X)\n",
    "    auc = roc_auc_score(y, y_score) #calculating auc score for each k\n",
    "    auc_scores.append(auc) #storing auc score for each k in a list so that we can print a graph in the next step\n",
    "\n",
    "# Let us plot the relationship between auc and k\n",
    "plt.plot(range(5, 51, 5), auc_scores, marker='x')\n",
    "plt.xlabel('K')\n",
    "plt.ylabel('AUC')\n",
    "plt.show()"
   ]
  },
  {
   "cell_type": "code",
   "execution_count": 23,
   "metadata": {},
   "outputs": [
    {
     "data": {
      "image/png": "[encoded data removed]",
      "text/plain": [
       "<Figure size 432x288 with 1 Axes>"
      ]
     },
     "metadata": {
      "needs_background": "light"
     },
     "output_type": "display_data"
    }
   ],
   "source": [
    "#Let us try different sample sizes for iforest to identify an ideal candidate.\n",
    "\n",
    "auc_scores = []\n",
    "sample_sizes = []\n",
    "for i in range(5, 15):\n",
    "    sample_sizes.append(2**i)\n",
    "    detector_if = IsolationForest(max_samples=2**i)\n",
    "    detector_if.fit(X)\n",
    "    y_score = detector_if.decision_function(X)\n",
    "    auc = roc_auc_score(y, y_score)\n",
    "    auc_scores.append(auc)\n",
    "\n",
    "#:Let us plot the relationship between auc and sample size.\n",
    "plt.plot(sample_sizes, auc_scores, marker='x')\n",
    "plt.xscale('log')\n",
    "plt.xlabel('Sample size (log)')\n",
    "plt.ylabel('AUC')\n",
    "plt.show()"
   ]
  },
  {
   "cell_type": "code",
   "execution_count": null,
   "metadata": {},
   "outputs": [],
   "source": []
  }
 ],
 "metadata": {
  "kernelspec": {
   "display_name": "Python 3",
   "language": "python",
   "name": "python3"
  },
  "language_info": {
   "codemirror_mode": {
    "name": "ipython",
    "version": 3
   },
   "file_extension": ".py",
   "mimetype": "text/x-python",
   "name": "python",
   "nbconvert_exporter": "python",
   "pygments_lexer": "ipython3",
   "version": "3.8.5"
  }
 },
 "nbformat": 4,
 "nbformat_minor": 2
}
